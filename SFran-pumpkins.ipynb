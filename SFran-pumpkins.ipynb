{
 "cells": [
  {
   "cell_type": "markdown",
   "id": "3a62c41d",
   "metadata": {},
   "source": [
    "# Data Cleaning Studio\n",
    "\n",
    "You are part of a team working for an agricultural nonprofit based in California. Your nonprofit focuses on helping farmers in the state grow profitable crops in environmentally-friendly ways in an effort to reduce the impact of climate change on the state and provide enough food for the state's 39.5 million residents. With Halloween on the horizon, you and your team are looking to analyze past pumpkin crops to try and answer several questions:\n",
    "1. Are pumpkins sold at terminal markets in California (San Francisco and Los Angeles) grown in California?\n",
    "1. Is the harvest season for pumpkins grown in California consistent year-to-year?\n",
    "1. Are pumpkin farmers growing specific varieties of pumpkins for specific reasons?\n",
    "\n",
    "The answers to these questions will help your nonprofit decide if they should promote specific varieties or growing practices to the farmers they serve in time for seeds to be planted next year. Your team has already performed some exploratory analysis on the San Francisco terminal market report of pumpkin sales from 9/2016-9/2017. Now it is time to clean the data!\n",
    "\n",
    "Before diving in to cleaning the data, here is a quick guide to the different columns in the USDA report and what they mean:\n",
    "- Commodity Name: This CSV structure is used for lots of USDA reports. In this case, the commodity is pumpkins\n",
    "- City Name: City where the pumpkin was sold. The city is a terminal market location within the United States.\n",
    "- Type: This refers to the type of farming used in growing the pumpkins\n",
    "- Package: The way the pumpkins were packed for sale\n",
    "- Variety: Specific type of pumpkin, i.e. pie pumpkin or a Howden pumpkin\n",
    "- Sub Variety: Addition classifications about the pumpkins, i.e. is it a flat pumpkin?\n",
    "- Grade: In the US, usually only canned pumpkin is graded\n",
    "- Date: Date of sale (rounded up to the nearest Saturday)\n",
    "- Low Price: This price is in reference to sale price\n",
    "- High Price: This price is in reference to sale price\n",
    "- Mostly Low: This column is not measured for pumpkins\n",
    "- Mostly High: This column is not measured for pumpkins\n",
    "- Origin: Which state the pumpkins were grown in\n",
    "- Origin District: Additional information about pumpkins' origin location\n",
    "- Item Size: Abbreviations denoting size, i.e. jbo = jumbo, lrg = large\n",
    "- Color: Color of pumpkins\n",
    "- Environment: Additional information about pumpkins' growing environment\n",
    "- Unit of Sale: The unit the customer bought at market, i.e. if they bought pumpkins by the pound, the data should say \"PER LB\" or  if they bought pumpkins by the bin, it would say \"PER BIN\"\n",
    "- Quality: Additional notes about pumpkin quality as necessary\n",
    "- Condition: Additional notes about pumpkin condition as necessary\n",
    "- Appearance: Additional notes about pumpkin appearance as necessary\n",
    "- Storage: Additional notes about pumpkin storage as necessary\n",
    "- Crop: Additional notes about pumpkin crop as necessary\n",
    "- Repack: Whether the pumpkin has been repackaged before sale\n",
    "- Trans Mode: Mode of transportation used to get pumpkins to terminal market"
   ]
  },
  {
   "cell_type": "code",
   "execution_count": 1,
   "id": "f15f403d",
   "metadata": {},
   "outputs": [],
   "source": [
    "import pandas as pd\n",
    "import matplotlib \n",
    "import matplotlib.pyplot as plt\n",
    "import numpy as np\n",
    "\n",
    "data = pd.read_csv(\"san-fransisco_9-24-2016_9-30-2017.csv\")"
   ]
  },
  {
   "cell_type": "code",
   "execution_count": 2,
   "id": "c57d63be",
   "metadata": {},
   "outputs": [
    {
     "data": {
      "text/html": [
       "<div>\n",
       "<style scoped>\n",
       "    .dataframe tbody tr th:only-of-type {\n",
       "        vertical-align: middle;\n",
       "    }\n",
       "\n",
       "    .dataframe tbody tr th {\n",
       "        vertical-align: top;\n",
       "    }\n",
       "\n",
       "    .dataframe thead th {\n",
       "        text-align: right;\n",
       "    }\n",
       "</style>\n",
       "<table border=\"1\" class=\"dataframe\">\n",
       "  <thead>\n",
       "    <tr style=\"text-align: right;\">\n",
       "      <th></th>\n",
       "      <th>Commodity Name</th>\n",
       "      <th>City Name</th>\n",
       "      <th>Type</th>\n",
       "      <th>Package</th>\n",
       "      <th>Variety</th>\n",
       "      <th>Sub Variety</th>\n",
       "      <th>Grade</th>\n",
       "      <th>Date</th>\n",
       "      <th>Low Price</th>\n",
       "      <th>High Price</th>\n",
       "      <th>...</th>\n",
       "      <th>Color</th>\n",
       "      <th>Environment</th>\n",
       "      <th>Unit of Sale</th>\n",
       "      <th>Quality</th>\n",
       "      <th>Condition</th>\n",
       "      <th>Appearance</th>\n",
       "      <th>Storage</th>\n",
       "      <th>Crop</th>\n",
       "      <th>Repack</th>\n",
       "      <th>Trans Mode</th>\n",
       "    </tr>\n",
       "  </thead>\n",
       "  <tbody>\n",
       "    <tr>\n",
       "      <th>0</th>\n",
       "      <td>PUMPKINS</td>\n",
       "      <td>SAN FRANCISCO</td>\n",
       "      <td>NaN</td>\n",
       "      <td>24 inch bins</td>\n",
       "      <td>HOWDEN TYPE</td>\n",
       "      <td>NaN</td>\n",
       "      <td>NaN</td>\n",
       "      <td>09/24/2016</td>\n",
       "      <td>155.0</td>\n",
       "      <td>155.0</td>\n",
       "      <td>...</td>\n",
       "      <td>NaN</td>\n",
       "      <td>NaN</td>\n",
       "      <td>NaN</td>\n",
       "      <td>NaN</td>\n",
       "      <td>NaN</td>\n",
       "      <td>NaN</td>\n",
       "      <td>NaN</td>\n",
       "      <td>NaN</td>\n",
       "      <td>N</td>\n",
       "      <td>NaN</td>\n",
       "    </tr>\n",
       "    <tr>\n",
       "      <th>1</th>\n",
       "      <td>PUMPKINS</td>\n",
       "      <td>SAN FRANCISCO</td>\n",
       "      <td>NaN</td>\n",
       "      <td>24 inch bins</td>\n",
       "      <td>HOWDEN TYPE</td>\n",
       "      <td>NaN</td>\n",
       "      <td>NaN</td>\n",
       "      <td>10/01/2016</td>\n",
       "      <td>155.0</td>\n",
       "      <td>155.0</td>\n",
       "      <td>...</td>\n",
       "      <td>NaN</td>\n",
       "      <td>NaN</td>\n",
       "      <td>NaN</td>\n",
       "      <td>NaN</td>\n",
       "      <td>NaN</td>\n",
       "      <td>NaN</td>\n",
       "      <td>NaN</td>\n",
       "      <td>NaN</td>\n",
       "      <td>N</td>\n",
       "      <td>NaN</td>\n",
       "    </tr>\n",
       "    <tr>\n",
       "      <th>2</th>\n",
       "      <td>PUMPKINS</td>\n",
       "      <td>SAN FRANCISCO</td>\n",
       "      <td>NaN</td>\n",
       "      <td>24 inch bins</td>\n",
       "      <td>HOWDEN TYPE</td>\n",
       "      <td>NaN</td>\n",
       "      <td>NaN</td>\n",
       "      <td>10/01/2016</td>\n",
       "      <td>155.0</td>\n",
       "      <td>155.0</td>\n",
       "      <td>...</td>\n",
       "      <td>NaN</td>\n",
       "      <td>NaN</td>\n",
       "      <td>NaN</td>\n",
       "      <td>NaN</td>\n",
       "      <td>NaN</td>\n",
       "      <td>NaN</td>\n",
       "      <td>NaN</td>\n",
       "      <td>NaN</td>\n",
       "      <td>N</td>\n",
       "      <td>NaN</td>\n",
       "    </tr>\n",
       "    <tr>\n",
       "      <th>3</th>\n",
       "      <td>PUMPKINS</td>\n",
       "      <td>SAN FRANCISCO</td>\n",
       "      <td>NaN</td>\n",
       "      <td>24 inch bins</td>\n",
       "      <td>HOWDEN TYPE</td>\n",
       "      <td>NaN</td>\n",
       "      <td>NaN</td>\n",
       "      <td>10/01/2016</td>\n",
       "      <td>135.0</td>\n",
       "      <td>135.0</td>\n",
       "      <td>...</td>\n",
       "      <td>NaN</td>\n",
       "      <td>NaN</td>\n",
       "      <td>NaN</td>\n",
       "      <td>NaN</td>\n",
       "      <td>NaN</td>\n",
       "      <td>NaN</td>\n",
       "      <td>NaN</td>\n",
       "      <td>NaN</td>\n",
       "      <td>N</td>\n",
       "      <td>NaN</td>\n",
       "    </tr>\n",
       "    <tr>\n",
       "      <th>4</th>\n",
       "      <td>PUMPKINS</td>\n",
       "      <td>SAN FRANCISCO</td>\n",
       "      <td>NaN</td>\n",
       "      <td>24 inch bins</td>\n",
       "      <td>HOWDEN TYPE</td>\n",
       "      <td>NaN</td>\n",
       "      <td>NaN</td>\n",
       "      <td>10/08/2016</td>\n",
       "      <td>135.0</td>\n",
       "      <td>150.0</td>\n",
       "      <td>...</td>\n",
       "      <td>NaN</td>\n",
       "      <td>NaN</td>\n",
       "      <td>NaN</td>\n",
       "      <td>NaN</td>\n",
       "      <td>NaN</td>\n",
       "      <td>NaN</td>\n",
       "      <td>NaN</td>\n",
       "      <td>NaN</td>\n",
       "      <td>N</td>\n",
       "      <td>NaN</td>\n",
       "    </tr>\n",
       "  </tbody>\n",
       "</table>\n",
       "<p>5 rows × 25 columns</p>\n",
       "</div>"
      ],
      "text/plain": [
       "  Commodity Name      City Name Type       Package      Variety Sub Variety  \\\n",
       "0       PUMPKINS  SAN FRANCISCO  NaN  24 inch bins  HOWDEN TYPE         NaN   \n",
       "1       PUMPKINS  SAN FRANCISCO  NaN  24 inch bins  HOWDEN TYPE         NaN   \n",
       "2       PUMPKINS  SAN FRANCISCO  NaN  24 inch bins  HOWDEN TYPE         NaN   \n",
       "3       PUMPKINS  SAN FRANCISCO  NaN  24 inch bins  HOWDEN TYPE         NaN   \n",
       "4       PUMPKINS  SAN FRANCISCO  NaN  24 inch bins  HOWDEN TYPE         NaN   \n",
       "\n",
       "   Grade        Date  Low Price  High Price  ...  Color  Environment  \\\n",
       "0    NaN  09/24/2016      155.0       155.0  ...    NaN          NaN   \n",
       "1    NaN  10/01/2016      155.0       155.0  ...    NaN          NaN   \n",
       "2    NaN  10/01/2016      155.0       155.0  ...    NaN          NaN   \n",
       "3    NaN  10/01/2016      135.0       135.0  ...    NaN          NaN   \n",
       "4    NaN  10/08/2016      135.0       150.0  ...    NaN          NaN   \n",
       "\n",
       "  Unit of Sale  Quality Condition Appearance  Storage  Crop  Repack  \\\n",
       "0          NaN      NaN       NaN        NaN      NaN   NaN       N   \n",
       "1          NaN      NaN       NaN        NaN      NaN   NaN       N   \n",
       "2          NaN      NaN       NaN        NaN      NaN   NaN       N   \n",
       "3          NaN      NaN       NaN        NaN      NaN   NaN       N   \n",
       "4          NaN      NaN       NaN        NaN      NaN   NaN       N   \n",
       "\n",
       "   Trans Mode  \n",
       "0         NaN  \n",
       "1         NaN  \n",
       "2         NaN  \n",
       "3         NaN  \n",
       "4         NaN  \n",
       "\n",
       "[5 rows x 25 columns]"
      ]
     },
     "execution_count": 2,
     "metadata": {},
     "output_type": "execute_result"
    }
   ],
   "source": [
    "data.head()"
   ]
  },
  {
   "cell_type": "code",
   "execution_count": 3,
   "id": "224ac9e3",
   "metadata": {
    "scrolled": true
   },
   "outputs": [
    {
     "name": "stdout",
     "output_type": "stream",
     "text": [
      "Commodity Name - 0%\n",
      "City Name - 0%\n",
      "Type - 78%\n",
      "Package - 0%\n",
      "Variety - 0%\n",
      "Sub Variety - 61%\n",
      "Grade - 100%\n",
      "Date - 0%\n",
      "Low Price - 0%\n",
      "High Price - 0%\n",
      "Mostly Low - 0%\n",
      "Mostly High - 0%\n",
      "Origin - 0%\n",
      "Origin District - 100%\n",
      "Item Size - 75%\n",
      "Color - 72%\n",
      "Environment - 100%\n",
      "Unit of Sale - 100%\n",
      "Quality - 100%\n",
      "Condition - 100%\n",
      "Appearance - 100%\n",
      "Storage - 100%\n",
      "Crop - 100%\n",
      "Repack - 0%\n",
      "Trans Mode - 100%\n"
     ]
    }
   ],
   "source": [
    "for col in data.columns:\n",
    "    pct_missing = np.mean(data[col].isnull())\n",
    "    print('{} - {}%'.format(col, round(pct_missing*100)))"
   ]
  },
  {
   "cell_type": "code",
   "execution_count": 4,
   "id": "bbc182d9",
   "metadata": {},
   "outputs": [
    {
     "name": "stdout",
     "output_type": "stream",
     "text": [
      "51.0 % Missing cells from the data\n"
     ]
    }
   ],
   "source": [
    "# Checking the overall percentage of missing data from the data set\n",
    "\n",
    "total_cells = np.product(data.shape)\n",
    "\n",
    "missing_cells = pd.isnull(data).sum()\n",
    "\n",
    "total_missing = missing_cells.sum()\n",
    "\n",
    "percentage_missing = round((total_missing/total_cells), 2) *100\n",
    "\n",
    "print(percentage_missing, \"% Missing cells from the data\")    "
   ]
  },
  {
   "cell_type": "markdown",
   "id": "e900b3e3",
   "metadata": {},
   "source": [
    "### Question 1: \n",
    "\n",
    "Look at the percentages of missing data per coluum.  There are quite a few columns with less than 100% of the data.  What do you want to do with each column?   Consider the following options for each and write down your thoughts in a box below this one.\n",
    "1. Drop the Observation\n",
    "1. Drop the Feature\n",
    "1. Impute the Missing Values\n",
    "1. Replace the Missing Values"
   ]
  },
  {
   "cell_type": "markdown",
   "id": "0bb6876b",
   "metadata": {},
   "source": [
    "For 100% missing columns, we will drop the entire feature.  For the ones missing multiple values, it would be best to drop the observation. "
   ]
  },
  {
   "cell_type": "markdown",
   "id": "ccc4caf2",
   "metadata": {},
   "source": [
    "# Answer Question 1 here:\n",
    "\n",
    "For the columns missing 100% of the data, we should drop the columns, as we can't draw value from them. We can impute some of the data in the organic field. \n"
   ]
  },
  {
   "cell_type": "code",
   "execution_count": 5,
   "id": "c2965056",
   "metadata": {},
   "outputs": [
    {
     "data": {
      "text/html": [
       "<div>\n",
       "<style scoped>\n",
       "    .dataframe tbody tr th:only-of-type {\n",
       "        vertical-align: middle;\n",
       "    }\n",
       "\n",
       "    .dataframe tbody tr th {\n",
       "        vertical-align: top;\n",
       "    }\n",
       "\n",
       "    .dataframe thead th {\n",
       "        text-align: right;\n",
       "    }\n",
       "</style>\n",
       "<table border=\"1\" class=\"dataframe\">\n",
       "  <thead>\n",
       "    <tr style=\"text-align: right;\">\n",
       "      <th></th>\n",
       "      <th>Commodity Name</th>\n",
       "      <th>City Name</th>\n",
       "      <th>Type</th>\n",
       "      <th>Package</th>\n",
       "      <th>Variety</th>\n",
       "      <th>Sub Variety</th>\n",
       "      <th>Grade</th>\n",
       "      <th>Date</th>\n",
       "      <th>Low Price</th>\n",
       "      <th>High Price</th>\n",
       "      <th>...</th>\n",
       "      <th>Color</th>\n",
       "      <th>Environment</th>\n",
       "      <th>Unit of Sale</th>\n",
       "      <th>Quality</th>\n",
       "      <th>Condition</th>\n",
       "      <th>Appearance</th>\n",
       "      <th>Storage</th>\n",
       "      <th>Crop</th>\n",
       "      <th>Repack</th>\n",
       "      <th>Trans Mode</th>\n",
       "    </tr>\n",
       "  </thead>\n",
       "  <tbody>\n",
       "    <tr>\n",
       "      <th>0</th>\n",
       "      <td>PUMPKINS</td>\n",
       "      <td>SAN FRANCISCO</td>\n",
       "      <td>NaN</td>\n",
       "      <td>24 inch bins</td>\n",
       "      <td>HOWDEN TYPE</td>\n",
       "      <td>NaN</td>\n",
       "      <td>NaN</td>\n",
       "      <td>09/24/2016</td>\n",
       "      <td>155.0</td>\n",
       "      <td>155.0</td>\n",
       "      <td>...</td>\n",
       "      <td>NaN</td>\n",
       "      <td>NaN</td>\n",
       "      <td>NaN</td>\n",
       "      <td>NaN</td>\n",
       "      <td>NaN</td>\n",
       "      <td>NaN</td>\n",
       "      <td>NaN</td>\n",
       "      <td>NaN</td>\n",
       "      <td>False</td>\n",
       "      <td>NaN</td>\n",
       "    </tr>\n",
       "    <tr>\n",
       "      <th>1</th>\n",
       "      <td>PUMPKINS</td>\n",
       "      <td>SAN FRANCISCO</td>\n",
       "      <td>NaN</td>\n",
       "      <td>24 inch bins</td>\n",
       "      <td>HOWDEN TYPE</td>\n",
       "      <td>NaN</td>\n",
       "      <td>NaN</td>\n",
       "      <td>10/01/2016</td>\n",
       "      <td>155.0</td>\n",
       "      <td>155.0</td>\n",
       "      <td>...</td>\n",
       "      <td>NaN</td>\n",
       "      <td>NaN</td>\n",
       "      <td>NaN</td>\n",
       "      <td>NaN</td>\n",
       "      <td>NaN</td>\n",
       "      <td>NaN</td>\n",
       "      <td>NaN</td>\n",
       "      <td>NaN</td>\n",
       "      <td>False</td>\n",
       "      <td>NaN</td>\n",
       "    </tr>\n",
       "    <tr>\n",
       "      <th>2</th>\n",
       "      <td>PUMPKINS</td>\n",
       "      <td>SAN FRANCISCO</td>\n",
       "      <td>NaN</td>\n",
       "      <td>24 inch bins</td>\n",
       "      <td>HOWDEN TYPE</td>\n",
       "      <td>NaN</td>\n",
       "      <td>NaN</td>\n",
       "      <td>10/01/2016</td>\n",
       "      <td>155.0</td>\n",
       "      <td>155.0</td>\n",
       "      <td>...</td>\n",
       "      <td>NaN</td>\n",
       "      <td>NaN</td>\n",
       "      <td>NaN</td>\n",
       "      <td>NaN</td>\n",
       "      <td>NaN</td>\n",
       "      <td>NaN</td>\n",
       "      <td>NaN</td>\n",
       "      <td>NaN</td>\n",
       "      <td>False</td>\n",
       "      <td>NaN</td>\n",
       "    </tr>\n",
       "  </tbody>\n",
       "</table>\n",
       "<p>3 rows × 25 columns</p>\n",
       "</div>"
      ],
      "text/plain": [
       "  Commodity Name      City Name Type       Package      Variety Sub Variety  \\\n",
       "0       PUMPKINS  SAN FRANCISCO  NaN  24 inch bins  HOWDEN TYPE         NaN   \n",
       "1       PUMPKINS  SAN FRANCISCO  NaN  24 inch bins  HOWDEN TYPE         NaN   \n",
       "2       PUMPKINS  SAN FRANCISCO  NaN  24 inch bins  HOWDEN TYPE         NaN   \n",
       "\n",
       "   Grade        Date  Low Price  High Price  ...  Color  Environment  \\\n",
       "0    NaN  09/24/2016      155.0       155.0  ...    NaN          NaN   \n",
       "1    NaN  10/01/2016      155.0       155.0  ...    NaN          NaN   \n",
       "2    NaN  10/01/2016      155.0       155.0  ...    NaN          NaN   \n",
       "\n",
       "  Unit of Sale  Quality Condition Appearance  Storage  Crop  Repack  \\\n",
       "0          NaN      NaN       NaN        NaN      NaN   NaN   False   \n",
       "1          NaN      NaN       NaN        NaN      NaN   NaN   False   \n",
       "2          NaN      NaN       NaN        NaN      NaN   NaN   False   \n",
       "\n",
       "   Trans Mode  \n",
       "0         NaN  \n",
       "1         NaN  \n",
       "2         NaN  \n",
       "\n",
       "[3 rows x 25 columns]"
      ]
     },
     "execution_count": 5,
     "metadata": {},
     "output_type": "execute_result"
    }
   ],
   "source": [
    "# Repack Column\n",
    "data[\"Repack\"] = data[\"Repack\"].replace({\"N\":False})\n",
    "#Check status with a quick head check\n",
    "data.head(3)"
   ]
  },
  {
   "cell_type": "markdown",
   "id": "a8f08339",
   "metadata": {},
   "source": [
    "# Question 2:\n",
    "\n",
    "Look at the \"Type\" column.  This column contains two values, \"Organic\" and \"NaN\".  \n",
    "When it comes to food, food is either typically designated as \"Organic\" or \"Conventional\" based on farming practices.  \n",
    "\n",
    "Do you think we should update the \"NaN\" values to \"Conventional\"?  Why or Why not?"
   ]
  },
  {
   "cell_type": "code",
   "execution_count": 6,
   "id": "b5b7c63c",
   "metadata": {},
   "outputs": [
    {
     "ename": "SyntaxError",
     "evalue": "invalid syntax (<ipython-input-6-b1ccccb838cc>, line 3)",
     "output_type": "error",
     "traceback": [
      "\u001b[0;36m  Input \u001b[0;32mIn [6]\u001b[0;36m\u001b[0m\n\u001b[0;31m    Yes, because the only filled in values are organic, so we can assume that the rest are conventional.\u001b[0m\n\u001b[0m                                                                                                         ^\u001b[0m\n\u001b[0;31mSyntaxError\u001b[0m\u001b[0;31m:\u001b[0m invalid syntax\n"
     ]
    }
   ],
   "source": [
    "# Answers Question 2:\n",
    "\n",
    "Yes, because the only filled in values are organic, so we can assume that the rest are conventional. \n"
   ]
  },
  {
   "cell_type": "code",
   "execution_count": null,
   "id": "9479f294",
   "metadata": {},
   "outputs": [],
   "source": [
    "# Fill the Missing Values in the Type Column\n",
    "data[\"Type\"] = data[\"Type\"].fillna(\"Conventional\")"
   ]
  },
  {
   "cell_type": "markdown",
   "id": "94b4c7ce",
   "metadata": {},
   "source": [
    "# Question 3\n",
    "\n",
    "Based on the information provided by our team, \"Grade\" is only applied to canned pumpkin.  \n",
    "These were all uncanned, whole pumpkins.  This column is irrelevant to the dataset.\n",
    "\n",
    "We are going to drop the column.  Do you agree with this choice?  Why or why not?"
   ]
  },
  {
   "cell_type": "code",
   "execution_count": null,
   "id": "1302d998",
   "metadata": {},
   "outputs": [],
   "source": [
    "# Answer Question 3 here:\n",
    "I agree with this choice because it is not relevant to the questions the stakeholders are asking. "
   ]
  },
  {
   "cell_type": "code",
   "execution_count": null,
   "id": "ddf0ab8f",
   "metadata": {
    "scrolled": true
   },
   "outputs": [],
   "source": [
    "# Grade Column \n",
    "data = data.drop([\"Grade\"], axis=1) "
   ]
  },
  {
   "cell_type": "code",
   "execution_count": null,
   "id": "67e812d5",
   "metadata": {},
   "outputs": [],
   "source": [
    "#Check with shape\n",
    "data.shape"
   ]
  },
  {
   "cell_type": "markdown",
   "id": "711bedbe",
   "metadata": {},
   "source": [
    "# Question 4\n",
    "\n",
    "Decide which columns are relevant and irrelevant as a group.\n",
    "\n",
    "Do you think any of the columns empty for a reason?  What reason do you think? \n",
    "Is this intentional or unintentional?  \n",
    "What do you think?"
   ]
  },
  {
   "cell_type": "markdown",
   "id": "e99b8b47",
   "metadata": {},
   "source": [
    "# Explain your rationale breifly here: \n",
    "I think that they are potentially unfilled by the people providing or collecting the data, so while it might not be intentional, the people who are deciding on the information collected aren't using realistic categories for people. "
   ]
  },
  {
   "cell_type": "code",
   "execution_count": null,
   "id": "ea0df42f",
   "metadata": {},
   "outputs": [],
   "source": [
    "# Drop the ones you decide are irrelevant using the code we used to drop the \"Grade Column\"\n",
    "data = data.drop([\"Origin District\",\n",
    "\"Item Size\",\n",
    "\"Color\",\n",
    "\"Environment\",\n",
    "\"Unit of Sale\",\n",
    "\"Quality\",\n",
    "\"Condition\",\n",
    "\"Appearance\",\n",
    "\"Storage\",\n",
    "\"Crop\",\n",
    "\"Trans Mode\"], axis = 1)"
   ]
  },
  {
   "cell_type": "markdown",
   "id": "66ac7337",
   "metadata": {},
   "source": [
    "# Question 5:\n",
    "\n",
    "Plot the outliers for them.\n",
    "histogram of date vs. sales\n",
    "\n",
    "\n",
    "What do you think about the dates?  "
   ]
  },
  {
   "cell_type": "markdown",
   "id": "17077ce8",
   "metadata": {},
   "source": [
    "# Answer 5 here:\n",
    "\n",
    "The information does not seem to have any major outliers with the harvesting season following the fall, and none in December really. \n",
    "It is not in date order, which is something we would want to change. "
   ]
  },
  {
   "cell_type": "code",
   "execution_count": null,
   "id": "11aa94a9",
   "metadata": {},
   "outputs": [],
   "source": [
    "# # bar chart -  distribution of a categorical variable\n",
    "date_array  = data['Date']\n",
    "data['Date'].value_counts().plot.bar()"
   ]
  },
  {
   "cell_type": "markdown",
   "id": "dde3d3bf",
   "metadata": {},
   "source": [
    "# Question 6:\n",
    "\n",
    "Are there any points in this data set that you worry about inconsistencies? \n",
    "Where?  What would you want to check?  Why?"
   ]
  },
  {
   "cell_type": "code",
   "execution_count": null,
   "id": "77d6e9a9",
   "metadata": {},
   "outputs": [],
   "source": [
    "# # histogram of dates.\n",
    "data['Date'].hist(bins=100)\n",
    "plt.xticks(rotation=90)\n",
    "\n",
    "#ignore the lists above the histogram for right now.  Examine the histogram."
   ]
  },
  {
   "cell_type": "markdown",
   "id": "5cf401ee",
   "metadata": {},
   "source": [
    "# Answer Question 6 here: \n",
    "\n",
    "Based on the second question asking if the growth is consistent from year to year, we would want to separate the dates into two separate data sets to compare.  Additionally, we would have concerns about the missing data that could be used for better analysis.  Lastly, improved technical skills would allow us to better sort and filter our data to draw conclusions from the data. \n",
    "\n"
   ]
  },
  {
   "cell_type": "markdown",
   "id": "91b4f663",
   "metadata": {},
   "source": [
    "# Bonus Mission\n",
    "\n",
    "Fix the LA page at this link: [A Year of Pumpkin Prices](https://www.kaggle.com/usda/a-year-of-pumpkin-prices)"
   ]
  },
  {
   "cell_type": "code",
   "execution_count": 9,
   "id": "40f72977",
   "metadata": {},
   "outputs": [
    {
     "ename": "FileNotFoundError",
     "evalue": "[Errno 2] No such file or directory: 'los_angeles_9-24-2016_9-30-2017.csv'",
     "output_type": "error",
     "traceback": [
      "\u001b[0;31m---------------------------------------------------------------------------\u001b[0m",
      "\u001b[0;31mFileNotFoundError\u001b[0m                         Traceback (most recent call last)",
      "Input \u001b[0;32mIn [9]\u001b[0m, in \u001b[0;36m<cell line: 1>\u001b[0;34m()\u001b[0m\n\u001b[0;32m----> 1\u001b[0m data_2 \u001b[38;5;241m=\u001b[39m \u001b[43mpd\u001b[49m\u001b[38;5;241;43m.\u001b[39;49m\u001b[43mread_csv\u001b[49m\u001b[43m(\u001b[49m\u001b[38;5;124;43m\"\u001b[39;49m\u001b[38;5;124;43mlos_angeles_9-24-2016_9-30-2017.csv\u001b[39;49m\u001b[38;5;124;43m\"\u001b[39;49m\u001b[43m)\u001b[49m\n",
      "File \u001b[0;32m~/opt/anaconda3/lib/python3.9/site-packages/pandas/util/_decorators.py:311\u001b[0m, in \u001b[0;36mdeprecate_nonkeyword_arguments.<locals>.decorate.<locals>.wrapper\u001b[0;34m(*args, **kwargs)\u001b[0m\n\u001b[1;32m    305\u001b[0m \u001b[38;5;28;01mif\u001b[39;00m \u001b[38;5;28mlen\u001b[39m(args) \u001b[38;5;241m>\u001b[39m num_allow_args:\n\u001b[1;32m    306\u001b[0m     warnings\u001b[38;5;241m.\u001b[39mwarn(\n\u001b[1;32m    307\u001b[0m         msg\u001b[38;5;241m.\u001b[39mformat(arguments\u001b[38;5;241m=\u001b[39marguments),\n\u001b[1;32m    308\u001b[0m         \u001b[38;5;167;01mFutureWarning\u001b[39;00m,\n\u001b[1;32m    309\u001b[0m         stacklevel\u001b[38;5;241m=\u001b[39mstacklevel,\n\u001b[1;32m    310\u001b[0m     )\n\u001b[0;32m--> 311\u001b[0m \u001b[38;5;28;01mreturn\u001b[39;00m \u001b[43mfunc\u001b[49m\u001b[43m(\u001b[49m\u001b[38;5;241;43m*\u001b[39;49m\u001b[43margs\u001b[49m\u001b[43m,\u001b[49m\u001b[43m \u001b[49m\u001b[38;5;241;43m*\u001b[39;49m\u001b[38;5;241;43m*\u001b[39;49m\u001b[43mkwargs\u001b[49m\u001b[43m)\u001b[49m\n",
      "File \u001b[0;32m~/opt/anaconda3/lib/python3.9/site-packages/pandas/io/parsers/readers.py:680\u001b[0m, in \u001b[0;36mread_csv\u001b[0;34m(filepath_or_buffer, sep, delimiter, header, names, index_col, usecols, squeeze, prefix, mangle_dupe_cols, dtype, engine, converters, true_values, false_values, skipinitialspace, skiprows, skipfooter, nrows, na_values, keep_default_na, na_filter, verbose, skip_blank_lines, parse_dates, infer_datetime_format, keep_date_col, date_parser, dayfirst, cache_dates, iterator, chunksize, compression, thousands, decimal, lineterminator, quotechar, quoting, doublequote, escapechar, comment, encoding, encoding_errors, dialect, error_bad_lines, warn_bad_lines, on_bad_lines, delim_whitespace, low_memory, memory_map, float_precision, storage_options)\u001b[0m\n\u001b[1;32m    665\u001b[0m kwds_defaults \u001b[38;5;241m=\u001b[39m _refine_defaults_read(\n\u001b[1;32m    666\u001b[0m     dialect,\n\u001b[1;32m    667\u001b[0m     delimiter,\n\u001b[0;32m   (...)\u001b[0m\n\u001b[1;32m    676\u001b[0m     defaults\u001b[38;5;241m=\u001b[39m{\u001b[38;5;124m\"\u001b[39m\u001b[38;5;124mdelimiter\u001b[39m\u001b[38;5;124m\"\u001b[39m: \u001b[38;5;124m\"\u001b[39m\u001b[38;5;124m,\u001b[39m\u001b[38;5;124m\"\u001b[39m},\n\u001b[1;32m    677\u001b[0m )\n\u001b[1;32m    678\u001b[0m kwds\u001b[38;5;241m.\u001b[39mupdate(kwds_defaults)\n\u001b[0;32m--> 680\u001b[0m \u001b[38;5;28;01mreturn\u001b[39;00m \u001b[43m_read\u001b[49m\u001b[43m(\u001b[49m\u001b[43mfilepath_or_buffer\u001b[49m\u001b[43m,\u001b[49m\u001b[43m \u001b[49m\u001b[43mkwds\u001b[49m\u001b[43m)\u001b[49m\n",
      "File \u001b[0;32m~/opt/anaconda3/lib/python3.9/site-packages/pandas/io/parsers/readers.py:575\u001b[0m, in \u001b[0;36m_read\u001b[0;34m(filepath_or_buffer, kwds)\u001b[0m\n\u001b[1;32m    572\u001b[0m _validate_names(kwds\u001b[38;5;241m.\u001b[39mget(\u001b[38;5;124m\"\u001b[39m\u001b[38;5;124mnames\u001b[39m\u001b[38;5;124m\"\u001b[39m, \u001b[38;5;28;01mNone\u001b[39;00m))\n\u001b[1;32m    574\u001b[0m \u001b[38;5;66;03m# Create the parser.\u001b[39;00m\n\u001b[0;32m--> 575\u001b[0m parser \u001b[38;5;241m=\u001b[39m \u001b[43mTextFileReader\u001b[49m\u001b[43m(\u001b[49m\u001b[43mfilepath_or_buffer\u001b[49m\u001b[43m,\u001b[49m\u001b[43m \u001b[49m\u001b[38;5;241;43m*\u001b[39;49m\u001b[38;5;241;43m*\u001b[39;49m\u001b[43mkwds\u001b[49m\u001b[43m)\u001b[49m\n\u001b[1;32m    577\u001b[0m \u001b[38;5;28;01mif\u001b[39;00m chunksize \u001b[38;5;129;01mor\u001b[39;00m iterator:\n\u001b[1;32m    578\u001b[0m     \u001b[38;5;28;01mreturn\u001b[39;00m parser\n",
      "File \u001b[0;32m~/opt/anaconda3/lib/python3.9/site-packages/pandas/io/parsers/readers.py:933\u001b[0m, in \u001b[0;36mTextFileReader.__init__\u001b[0;34m(self, f, engine, **kwds)\u001b[0m\n\u001b[1;32m    930\u001b[0m     \u001b[38;5;28mself\u001b[39m\u001b[38;5;241m.\u001b[39moptions[\u001b[38;5;124m\"\u001b[39m\u001b[38;5;124mhas_index_names\u001b[39m\u001b[38;5;124m\"\u001b[39m] \u001b[38;5;241m=\u001b[39m kwds[\u001b[38;5;124m\"\u001b[39m\u001b[38;5;124mhas_index_names\u001b[39m\u001b[38;5;124m\"\u001b[39m]\n\u001b[1;32m    932\u001b[0m \u001b[38;5;28mself\u001b[39m\u001b[38;5;241m.\u001b[39mhandles: IOHandles \u001b[38;5;241m|\u001b[39m \u001b[38;5;28;01mNone\u001b[39;00m \u001b[38;5;241m=\u001b[39m \u001b[38;5;28;01mNone\u001b[39;00m\n\u001b[0;32m--> 933\u001b[0m \u001b[38;5;28mself\u001b[39m\u001b[38;5;241m.\u001b[39m_engine \u001b[38;5;241m=\u001b[39m \u001b[38;5;28;43mself\u001b[39;49m\u001b[38;5;241;43m.\u001b[39;49m\u001b[43m_make_engine\u001b[49m\u001b[43m(\u001b[49m\u001b[43mf\u001b[49m\u001b[43m,\u001b[49m\u001b[43m \u001b[49m\u001b[38;5;28;43mself\u001b[39;49m\u001b[38;5;241;43m.\u001b[39;49m\u001b[43mengine\u001b[49m\u001b[43m)\u001b[49m\n",
      "File \u001b[0;32m~/opt/anaconda3/lib/python3.9/site-packages/pandas/io/parsers/readers.py:1217\u001b[0m, in \u001b[0;36mTextFileReader._make_engine\u001b[0;34m(self, f, engine)\u001b[0m\n\u001b[1;32m   1213\u001b[0m     mode \u001b[38;5;241m=\u001b[39m \u001b[38;5;124m\"\u001b[39m\u001b[38;5;124mrb\u001b[39m\u001b[38;5;124m\"\u001b[39m\n\u001b[1;32m   1214\u001b[0m \u001b[38;5;66;03m# error: No overload variant of \"get_handle\" matches argument types\u001b[39;00m\n\u001b[1;32m   1215\u001b[0m \u001b[38;5;66;03m# \"Union[str, PathLike[str], ReadCsvBuffer[bytes], ReadCsvBuffer[str]]\"\u001b[39;00m\n\u001b[1;32m   1216\u001b[0m \u001b[38;5;66;03m# , \"str\", \"bool\", \"Any\", \"Any\", \"Any\", \"Any\", \"Any\"\u001b[39;00m\n\u001b[0;32m-> 1217\u001b[0m \u001b[38;5;28mself\u001b[39m\u001b[38;5;241m.\u001b[39mhandles \u001b[38;5;241m=\u001b[39m \u001b[43mget_handle\u001b[49m\u001b[43m(\u001b[49m\u001b[43m  \u001b[49m\u001b[38;5;66;43;03m# type: ignore[call-overload]\u001b[39;49;00m\n\u001b[1;32m   1218\u001b[0m \u001b[43m    \u001b[49m\u001b[43mf\u001b[49m\u001b[43m,\u001b[49m\n\u001b[1;32m   1219\u001b[0m \u001b[43m    \u001b[49m\u001b[43mmode\u001b[49m\u001b[43m,\u001b[49m\n\u001b[1;32m   1220\u001b[0m \u001b[43m    \u001b[49m\u001b[43mencoding\u001b[49m\u001b[38;5;241;43m=\u001b[39;49m\u001b[38;5;28;43mself\u001b[39;49m\u001b[38;5;241;43m.\u001b[39;49m\u001b[43moptions\u001b[49m\u001b[38;5;241;43m.\u001b[39;49m\u001b[43mget\u001b[49m\u001b[43m(\u001b[49m\u001b[38;5;124;43m\"\u001b[39;49m\u001b[38;5;124;43mencoding\u001b[39;49m\u001b[38;5;124;43m\"\u001b[39;49m\u001b[43m,\u001b[49m\u001b[43m \u001b[49m\u001b[38;5;28;43;01mNone\u001b[39;49;00m\u001b[43m)\u001b[49m\u001b[43m,\u001b[49m\n\u001b[1;32m   1221\u001b[0m \u001b[43m    \u001b[49m\u001b[43mcompression\u001b[49m\u001b[38;5;241;43m=\u001b[39;49m\u001b[38;5;28;43mself\u001b[39;49m\u001b[38;5;241;43m.\u001b[39;49m\u001b[43moptions\u001b[49m\u001b[38;5;241;43m.\u001b[39;49m\u001b[43mget\u001b[49m\u001b[43m(\u001b[49m\u001b[38;5;124;43m\"\u001b[39;49m\u001b[38;5;124;43mcompression\u001b[39;49m\u001b[38;5;124;43m\"\u001b[39;49m\u001b[43m,\u001b[49m\u001b[43m \u001b[49m\u001b[38;5;28;43;01mNone\u001b[39;49;00m\u001b[43m)\u001b[49m\u001b[43m,\u001b[49m\n\u001b[1;32m   1222\u001b[0m \u001b[43m    \u001b[49m\u001b[43mmemory_map\u001b[49m\u001b[38;5;241;43m=\u001b[39;49m\u001b[38;5;28;43mself\u001b[39;49m\u001b[38;5;241;43m.\u001b[39;49m\u001b[43moptions\u001b[49m\u001b[38;5;241;43m.\u001b[39;49m\u001b[43mget\u001b[49m\u001b[43m(\u001b[49m\u001b[38;5;124;43m\"\u001b[39;49m\u001b[38;5;124;43mmemory_map\u001b[39;49m\u001b[38;5;124;43m\"\u001b[39;49m\u001b[43m,\u001b[49m\u001b[43m \u001b[49m\u001b[38;5;28;43;01mFalse\u001b[39;49;00m\u001b[43m)\u001b[49m\u001b[43m,\u001b[49m\n\u001b[1;32m   1223\u001b[0m \u001b[43m    \u001b[49m\u001b[43mis_text\u001b[49m\u001b[38;5;241;43m=\u001b[39;49m\u001b[43mis_text\u001b[49m\u001b[43m,\u001b[49m\n\u001b[1;32m   1224\u001b[0m \u001b[43m    \u001b[49m\u001b[43merrors\u001b[49m\u001b[38;5;241;43m=\u001b[39;49m\u001b[38;5;28;43mself\u001b[39;49m\u001b[38;5;241;43m.\u001b[39;49m\u001b[43moptions\u001b[49m\u001b[38;5;241;43m.\u001b[39;49m\u001b[43mget\u001b[49m\u001b[43m(\u001b[49m\u001b[38;5;124;43m\"\u001b[39;49m\u001b[38;5;124;43mencoding_errors\u001b[39;49m\u001b[38;5;124;43m\"\u001b[39;49m\u001b[43m,\u001b[49m\u001b[43m \u001b[49m\u001b[38;5;124;43m\"\u001b[39;49m\u001b[38;5;124;43mstrict\u001b[39;49m\u001b[38;5;124;43m\"\u001b[39;49m\u001b[43m)\u001b[49m\u001b[43m,\u001b[49m\n\u001b[1;32m   1225\u001b[0m \u001b[43m    \u001b[49m\u001b[43mstorage_options\u001b[49m\u001b[38;5;241;43m=\u001b[39;49m\u001b[38;5;28;43mself\u001b[39;49m\u001b[38;5;241;43m.\u001b[39;49m\u001b[43moptions\u001b[49m\u001b[38;5;241;43m.\u001b[39;49m\u001b[43mget\u001b[49m\u001b[43m(\u001b[49m\u001b[38;5;124;43m\"\u001b[39;49m\u001b[38;5;124;43mstorage_options\u001b[39;49m\u001b[38;5;124;43m\"\u001b[39;49m\u001b[43m,\u001b[49m\u001b[43m \u001b[49m\u001b[38;5;28;43;01mNone\u001b[39;49;00m\u001b[43m)\u001b[49m\u001b[43m,\u001b[49m\n\u001b[1;32m   1226\u001b[0m \u001b[43m\u001b[49m\u001b[43m)\u001b[49m\n\u001b[1;32m   1227\u001b[0m \u001b[38;5;28;01massert\u001b[39;00m \u001b[38;5;28mself\u001b[39m\u001b[38;5;241m.\u001b[39mhandles \u001b[38;5;129;01mis\u001b[39;00m \u001b[38;5;129;01mnot\u001b[39;00m \u001b[38;5;28;01mNone\u001b[39;00m\n\u001b[1;32m   1228\u001b[0m f \u001b[38;5;241m=\u001b[39m \u001b[38;5;28mself\u001b[39m\u001b[38;5;241m.\u001b[39mhandles\u001b[38;5;241m.\u001b[39mhandle\n",
      "File \u001b[0;32m~/opt/anaconda3/lib/python3.9/site-packages/pandas/io/common.py:789\u001b[0m, in \u001b[0;36mget_handle\u001b[0;34m(path_or_buf, mode, encoding, compression, memory_map, is_text, errors, storage_options)\u001b[0m\n\u001b[1;32m    784\u001b[0m \u001b[38;5;28;01melif\u001b[39;00m \u001b[38;5;28misinstance\u001b[39m(handle, \u001b[38;5;28mstr\u001b[39m):\n\u001b[1;32m    785\u001b[0m     \u001b[38;5;66;03m# Check whether the filename is to be opened in binary mode.\u001b[39;00m\n\u001b[1;32m    786\u001b[0m     \u001b[38;5;66;03m# Binary mode does not support 'encoding' and 'newline'.\u001b[39;00m\n\u001b[1;32m    787\u001b[0m     \u001b[38;5;28;01mif\u001b[39;00m ioargs\u001b[38;5;241m.\u001b[39mencoding \u001b[38;5;129;01mand\u001b[39;00m \u001b[38;5;124m\"\u001b[39m\u001b[38;5;124mb\u001b[39m\u001b[38;5;124m\"\u001b[39m \u001b[38;5;129;01mnot\u001b[39;00m \u001b[38;5;129;01min\u001b[39;00m ioargs\u001b[38;5;241m.\u001b[39mmode:\n\u001b[1;32m    788\u001b[0m         \u001b[38;5;66;03m# Encoding\u001b[39;00m\n\u001b[0;32m--> 789\u001b[0m         handle \u001b[38;5;241m=\u001b[39m \u001b[38;5;28;43mopen\u001b[39;49m\u001b[43m(\u001b[49m\n\u001b[1;32m    790\u001b[0m \u001b[43m            \u001b[49m\u001b[43mhandle\u001b[49m\u001b[43m,\u001b[49m\n\u001b[1;32m    791\u001b[0m \u001b[43m            \u001b[49m\u001b[43mioargs\u001b[49m\u001b[38;5;241;43m.\u001b[39;49m\u001b[43mmode\u001b[49m\u001b[43m,\u001b[49m\n\u001b[1;32m    792\u001b[0m \u001b[43m            \u001b[49m\u001b[43mencoding\u001b[49m\u001b[38;5;241;43m=\u001b[39;49m\u001b[43mioargs\u001b[49m\u001b[38;5;241;43m.\u001b[39;49m\u001b[43mencoding\u001b[49m\u001b[43m,\u001b[49m\n\u001b[1;32m    793\u001b[0m \u001b[43m            \u001b[49m\u001b[43merrors\u001b[49m\u001b[38;5;241;43m=\u001b[39;49m\u001b[43merrors\u001b[49m\u001b[43m,\u001b[49m\n\u001b[1;32m    794\u001b[0m \u001b[43m            \u001b[49m\u001b[43mnewline\u001b[49m\u001b[38;5;241;43m=\u001b[39;49m\u001b[38;5;124;43m\"\u001b[39;49m\u001b[38;5;124;43m\"\u001b[39;49m\u001b[43m,\u001b[49m\n\u001b[1;32m    795\u001b[0m \u001b[43m        \u001b[49m\u001b[43m)\u001b[49m\n\u001b[1;32m    796\u001b[0m     \u001b[38;5;28;01melse\u001b[39;00m:\n\u001b[1;32m    797\u001b[0m         \u001b[38;5;66;03m# Binary mode\u001b[39;00m\n\u001b[1;32m    798\u001b[0m         handle \u001b[38;5;241m=\u001b[39m \u001b[38;5;28mopen\u001b[39m(handle, ioargs\u001b[38;5;241m.\u001b[39mmode)\n",
      "\u001b[0;31mFileNotFoundError\u001b[0m: [Errno 2] No such file or directory: 'los_angeles_9-24-2016_9-30-2017.csv'"
     ]
    }
   ],
   "source": [
    "data_2 = pd.read_csv(\"los_angeles_9-24-2016_9-30-2017.csv\")"
   ]
  },
  {
   "cell_type": "code",
   "execution_count": null,
   "id": "a39a18f4",
   "metadata": {},
   "outputs": [],
   "source": []
  }
 ],
 "metadata": {
  "kernelspec": {
   "display_name": "Python 3",
   "language": "python",
   "name": "python3"
  },
  "language_info": {
   "codemirror_mode": {
    "name": "ipython",
    "version": 3
   },
   "file_extension": ".py",
   "mimetype": "text/x-python",
   "name": "python",
   "nbconvert_exporter": "python",
   "pygments_lexer": "ipython3",
   "version": "3.9.12"
  }
 },
 "nbformat": 4,
 "nbformat_minor": 5
}
